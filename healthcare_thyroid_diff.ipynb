{
 "cells": [
  {
   "cell_type": "code",
   "execution_count": null,
   "id": "0d19085b",
   "metadata": {},
   "outputs": [],
   "source": [
    "%%capture\n",
    "!pip install catboost\n",
    "!pip install ppscore\n",
    "!pip install pandas === 1.5.3"
   ]
  },
  {
   "cell_type": "code",
   "execution_count": null,
   "id": "c52cd753",
   "metadata": {},
   "outputs": [],
   "source": [
    "pip install --upgrade ppscore numpy\n"
   ]
  },
  {
   "cell_type": "markdown",
   "id": "cbc77128",
   "metadata": {},
   "source": [
    "### Load Libraries"
   ]
  },
  {
   "cell_type": "code",
   "execution_count": null,
   "id": "aeddd102",
   "metadata": {},
   "outputs": [],
   "source": [
    "pip install xgboost"
   ]
  },
  {
   "cell_type": "code",
   "execution_count": null,
   "id": "ed974357",
   "metadata": {},
   "outputs": [],
   "source": [
    "pip install lightgbm"
   ]
  },
  {
   "cell_type": "code",
   "execution_count": null,
   "id": "db6e2573",
   "metadata": {},
   "outputs": [],
   "source": [
    "# Data manipulation\n",
    "import pandas as pd\n",
    "import numpy as np\n",
    "\n",
    "# Data visualization\n",
    "import matplotlib.pyplot as plt\n",
    "import seaborn as sns\n",
    "\n",
    "# Stats\n",
    "import statsmodels.api as sm\n",
    "from scipy import stats\n",
    "import ppscore as pps\n",
    "\n",
    "# Data preprocessing\n",
    "from sklearn.model_selection import train_test_split as tts\n",
    "from sklearn.preprocessing import StandardScaler\n",
    "from sklearn.preprocessing import OneHotEncoder\n",
    "from sklearn.compose import ColumnTransformer\n",
    "\n",
    "# Models\n",
    "from sklearn.linear_model import LogisticRegression\n",
    "from sklearn.svm import SVC\n",
    "from sklearn.ensemble import RandomForestClassifier, ExtraTreesClassifier\n",
    "from xgboost import XGBClassifier\n",
    "from lightgbm import LGBMClassifier\n",
    "from catboost import CatBoostClassifier\n",
    "\n",
    "# Metrics\n",
    "from sklearn.metrics import accuracy_score, balanced_accuracy_score\n",
    "from sklearn.metrics import confusion_matrix, classification_report\n",
    "from sklearn.metrics import roc_curve, roc_auc_score\n",
    "from sklearn.metrics import precision_recall_curve\n",
    "\n",
    "# tqdm\n",
    "from tqdm.auto import tqdm\n",
    "\n",
    "# warnings\n",
    "import warnings\n",
    "warnings.filterwarnings(\"ignore\")"
   ]
  },
  {
   "cell_type": "code",
   "execution_count": null,
   "id": "248e1a93",
   "metadata": {},
   "outputs": [],
   "source": [
    "import sys\n",
    "\n",
    "# Define the file path as a variable\n",
    "csv_file = \"D:\\\\Data_Analytics\\\\Data_source\\\\extracted_data\\\\Healthcare\\\\Thyroid_Diff.csv\"\n",
    "\n",
    "# Load the CSV file using the provided file path\n",
    "try:\n",
    "    data = pd.read_csv(csv_file)\n",
    "    print(\"CSV file loaded successfully!\")\n",
    "    # Now you can work with your data\n",
    "except FileNotFoundError:\n",
    "    print(f\"Error: File '{csv_file}' not found.\")"
   ]
  },
  {
   "cell_type": "code",
   "execution_count": null,
   "id": "dd877951",
   "metadata": {},
   "outputs": [],
   "source": [
    "data.head()"
   ]
  },
  {
   "cell_type": "code",
   "execution_count": null,
   "id": "024d5221",
   "metadata": {},
   "outputs": [],
   "source": [
    "data.shape"
   ]
  },
  {
   "cell_type": "code",
   "execution_count": null,
   "id": "8361cf17",
   "metadata": {},
   "outputs": [],
   "source": [
    "data.info()"
   ]
  },
  {
   "cell_type": "code",
   "execution_count": null,
   "id": "45bd5209",
   "metadata": {},
   "outputs": [],
   "source": [
    "data.dtypes"
   ]
  },
  {
   "cell_type": "code",
   "execution_count": null,
   "id": "0a48d560",
   "metadata": {},
   "outputs": [],
   "source": [
    "categorical_features = data.select_dtypes(include = ['object','category']).columns.to_list()\n",
    "\n",
    "print(f'Total Categorical features = {len(categorical_features)}\\n')\n",
    "for cat_feat in categorical_features:\n",
    "    print(f'* {cat_feat}: {data[cat_feat].unique()} => {data[cat_feat].nunique()} values\\n')"
   ]
  },
  {
   "cell_type": "code",
   "execution_count": null,
   "id": "8aa3cc59",
   "metadata": {},
   "outputs": [],
   "source": [
    "data.describe()\n",
    "\n"
   ]
  },
  {
   "cell_type": "markdown",
   "id": "176142ab",
   "metadata": {},
   "source": [
    "# EDA"
   ]
  },
  {
   "cell_type": "code",
   "execution_count": null,
   "id": "e7db2689",
   "metadata": {},
   "outputs": [],
   "source": [
    "# Visualize the distribution of ages using a histogram.\n",
    "plt.figure(figsize=(10, 6))\n",
    "sns.histplot(data['Age'], bins=20, kde=True, color='#ff9f80')\n",
    "plt.xlabel('Age')\n",
    "plt.ylabel('Frequency')\n",
    "plt.title('Distribution of Age')\n",
    "plt.show()"
   ]
  },
  {
   "cell_type": "code",
   "execution_count": null,
   "id": "7bdc67b0",
   "metadata": {},
   "outputs": [],
   "source": [
    "fig, axes = plt.subplots(1, 3, figsize=(20, 8))\n",
    "\n",
    "#Display the count of patients in each gender category.\n",
    "sns.countplot(x='Gender', data=data, palette='OrRd', ax=axes[0])\n",
    "axes[0].set_title('Gender Distribution')\n",
    "axes[0].set_xlabel('Gender')\n",
    "axes[0].set_ylabel('Count')\n",
    "\n",
    "sns.countplot(x='Smoking', data=data, palette='OrRd', ax=axes[1])\n",
    "axes[1].set_title('Smoking Distribution')\n",
    "axes[1].set_xlabel('Smoking')\n",
    "axes[1].set_ylabel('Count')\n",
    "\n",
    "sns.countplot(x='Response', data=data, palette='OrRd',  ax=axes[2])\n",
    "axes[2].set_title('Treatment Response Distribution')\n",
    "axes[2].set_xlabel('Treatment Response')\n",
    "axes[2].set_ylabel('Count')\n",
    "axes[2].tick_params(axis='x', rotation=45)\n",
    "plt.show()"
   ]
  },
  {
   "cell_type": "markdown",
   "id": "7583fc36",
   "metadata": {},
   "source": [
    " 1. From the above plot we conclude that the majority of people who has a thyroid Cancer are Female\n",
    "\n",
    " 2. The Smoking doesnt affect on the thyroid cancer\n",
    "\n",
    " 3. Rate of recovery from the Thyroid cancer are very large"
   ]
  },
  {
   "cell_type": "code",
   "execution_count": null,
   "id": "4275e002",
   "metadata": {},
   "outputs": [],
   "source": [
    "sns.set_palette(\"OrRd\")\n",
    "fig, axes = plt.subplots(1, 3, figsize=(20, 8))\n",
    "\n",
    "# Pie chart for 'Risk'\n",
    "risky = data['Risk'].value_counts()\n",
    "risky.plot(kind='pie', autopct='%0.2f%%', explode=[0.05, 0.08, 0.1], labels=risky.index, shadow=True, ax=axes[0])\n",
    "axes[0].set_title('Percentage of Risk')\n",
    "axes[0].set_ylabel('')\n",
    "\n",
    "# Pie chart for 'Stage'\n",
    "Stage_of_Cancer = data['Stage'].value_counts()\n",
    "Stage_of_Cancer.plot(kind='pie', autopct='%0.2f%%', labels=Stage_of_Cancer.index, explode=[0.1, 0.2, 0.3, 0.4, 0.9], shadow=True, ax=axes[1])\n",
    "axes[1].set_title('Percentage of Each Stage')\n",
    "axes[1].set_ylabel('')\n",
    "\n",
    "# Pie chart for 'Adenopathy'\n",
    "aden = data['Adenopathy'].value_counts()\n",
    "aden.value_counts().plot(kind='pie', autopct='%0.2f%%', labels=aden.index, shadow=True, ax=axes[2])\n",
    "axes[2].set_title('Percentage of Adenopathy')\n",
    "axes[2].set_ylabel('')\n",
    "\n",
    "\n",
    "plt.show()\n"
   ]
  },
  {
   "cell_type": "code",
   "execution_count": null,
   "id": "6daa430a",
   "metadata": {},
   "outputs": [],
   "source": [
    "sns.violinplot(x ='Stage', y ='Age', data = data, hue ='Gender', palette='Dark2', split = True);"
   ]
  },
  {
   "cell_type": "code",
   "execution_count": null,
   "id": "4f14ce27",
   "metadata": {},
   "outputs": [],
   "source": [
    "sns.countplot(x = 'Thyroid Function', data = data,hue='Recurred', palette='Reds')\n",
    "plt.xticks(rotation = 40);"
   ]
  },
  {
   "cell_type": "code",
   "execution_count": null,
   "id": "da58d3ac",
   "metadata": {},
   "outputs": [],
   "source": [
    "sns.violinplot(x ='Thyroid Function', y ='Age', data = data, hue ='Gender', palette='Dark2', split = True)\n",
    "\n",
    "plt.xticks(rotation = 40);"
   ]
  },
  {
   "cell_type": "code",
   "execution_count": null,
   "id": "08bb869b",
   "metadata": {},
   "outputs": [],
   "source": [
    "sns.countplot(x = 'Pathology' ,data = data,hue='Recurred', palette='winter')\n",
    "plt.xticks(rotation = 40);"
   ]
  },
  {
   "cell_type": "code",
   "execution_count": null,
   "id": "b20eaa6f",
   "metadata": {},
   "outputs": [],
   "source": [
    "sns.countplot(x= 'Focality', data= data,hue='Recurred', palette='autumn');"
   ]
  },
  {
   "cell_type": "markdown",
   "id": "088d4402",
   "metadata": {},
   "source": [
    "# Bivariate Analysis"
   ]
  },
  {
   "cell_type": "code",
   "execution_count": null,
   "id": "74633f95",
   "metadata": {},
   "outputs": [],
   "source": [
    "sns.set_style(\"dark\")\n",
    "pps_matrix = pps.matrix(data)[['x', 'y', 'ppscore']].pivot_table(values = 'ppscore', \n",
    "                                                                 index = 'y', \n",
    "                                                                 columns = 'x')\n",
    " \n",
    "plt.figure(figsize = (20,10))                                                             \n",
    "sns.heatmap(pps_matrix, \n",
    "            cmap = 'Reds', \n",
    "            annot = True, \n",
    "            annot_kws = {'fontsize':7},\n",
    "            fmt = '.4f', \n",
    "            square = True, \n",
    "            linewidths = 1.1)\n",
    "\n",
    "plt.title(\"Predictive Power Score (PPS)\", \n",
    "          fontsize = 20, \n",
    "          fontweight = 'bold', \n",
    "          color = 'black')\n",
    "plt.show()"
   ]
  },
  {
   "cell_type": "markdown",
   "id": "f1c88f24",
   "metadata": {},
   "source": [
    "# Preprocessing"
   ]
  },
  {
   "cell_type": "code",
   "execution_count": null,
   "id": "25a7b664",
   "metadata": {},
   "outputs": [],
   "source": [
    "X = data.drop('Recurred', axis = 1)\n",
    "y = data['Recurred']"
   ]
  },
  {
   "cell_type": "code",
   "execution_count": null,
   "id": "085824a7",
   "metadata": {},
   "outputs": [],
   "source": [
    "label2id = dict(zip(y.unique(), np.arange(len(y.unique()), dtype = np.float32)))\n",
    "label2id"
   ]
  },
  {
   "cell_type": "code",
   "execution_count": null,
   "id": "f4ac799e",
   "metadata": {},
   "outputs": [],
   "source": [
    "y = y.map(label2id)"
   ]
  },
  {
   "cell_type": "code",
   "execution_count": null,
   "id": "5878e417",
   "metadata": {},
   "outputs": [],
   "source": [
    "from sklearn.model_selection import train_test_split\n",
    "\n",
    "SEED = 1234\n",
    "\n",
    "X_train, X_test, y_train, y_test = train_test_split(X, \n",
    "                                                    y, \n",
    "                                                    test_size=0.3, \n",
    "                                                    random_state=SEED, \n",
    "                                                    stratify=y)"
   ]
  },
  {
   "cell_type": "code",
   "execution_count": null,
   "id": "a9df3cc3",
   "metadata": {},
   "outputs": [],
   "source": [
    "y_train.value_counts()"
   ]
  },
  {
   "cell_type": "code",
   "execution_count": null,
   "id": "fec2e0fd",
   "metadata": {},
   "outputs": [],
   "source": [
    "y_test.value_counts()"
   ]
  },
  {
   "cell_type": "code",
   "execution_count": null,
   "id": "2679251e",
   "metadata": {},
   "outputs": [],
   "source": [
    "numerical_predictor = X_train.select_dtypes(include = ['int', 'float']).columns.to_list()\n",
    "categorical_predictors = X_train.select_dtypes(include = ['object', 'category']).columns.to_list()\n"
   ]
  },
  {
   "cell_type": "code",
   "execution_count": null,
   "id": "800f5d7f",
   "metadata": {},
   "outputs": [],
   "source": [
    "from sklearn.compose import ColumnTransformer\n",
    "from sklearn.pipeline import Pipeline\n",
    "from sklearn.impute import SimpleImputer\n",
    "from sklearn.preprocessing import StandardScaler, OneHotEncoder\n",
    "\n",
    "# Define preprocessing steps for numerical variables\n",
    "numeric_transformer = Pipeline(steps=[\n",
    "    ('imputer', SimpleImputer(strategy='median')),  # Impute missing values using median\n",
    "    ('scaler', StandardScaler())  # Standardize features by removing the mean and scaling to unit variance\n",
    "])\n",
    "\n",
    "# Define preprocessing steps for categorical variables\n",
    "categorical_transformer = Pipeline(steps=[\n",
    "    ('imputer', SimpleImputer(strategy='most_frequent')),  # Impute missing values using most frequent value\n",
    "    ('onehot', OneHotEncoder(handle_unknown='ignore'))  # Encode categorical features as one-hot vectors\n",
    "])\n",
    "\n",
    "# Combine preprocessing steps for both numerical and categorical variables\n",
    "preprocessor = ColumnTransformer(\n",
    "    transformers=[\n",
    "        ('num', numeric_transformer, numerical_predictor),  # Apply numeric_transformer to numerical columns\n",
    "        ('cat', categorical_transformer, categorical_predictors)  # Apply categorical_transformer to categorical columns\n",
    "    ])\n",
    "\n",
    "# Fit and transform the training data\n",
    "X_train_base = preprocessor.fit_transform(X_train)\n",
    "\n",
    "# Transform the test data (only transform, no fitting)\n",
    "X_test_base = preprocessor.transform(X_test)"
   ]
  },
  {
   "cell_type": "code",
   "execution_count": null,
   "id": "78942112",
   "metadata": {},
   "outputs": [],
   "source": [
    "from sklearn.compose import ColumnTransformer\n",
    "from sklearn.preprocessing import OneHotEncoder\n",
    "\n",
    "# Define a ColumnTransformer for preprocessing the data for the rest of the model\n",
    "preprocessor_models = ColumnTransformer(\n",
    "    [('ohe', OneHotEncoder(handle_unknown='ignore'), categorical_predictors)],\n",
    "    remainder='passthrough'\n",
    ")\n",
    "\n",
    "# Fit and transform the training data\n",
    "X_train_prep_models = preprocessor_models.fit_transform(X_train)\n",
    "\n",
    "# Transform the test data using the preprocessor fitted to the training data\n",
    "X_test_prep_models = preprocessor_models.transform(X_test)"
   ]
  },
  {
   "cell_type": "markdown",
   "id": "a9b418e2",
   "metadata": {},
   "source": [
    "# Models"
   ]
  },
  {
   "cell_type": "code",
   "execution_count": null,
   "id": "661428c0",
   "metadata": {},
   "outputs": [],
   "source": [
    "lr = LogisticRegression(random_state = SEED, n_jobs = -1)\n",
    "lr.fit(X_train_base, y_train)\n",
    "\n",
    "y_pred_train_base = lr.predict(X_train_base)\n",
    "y_pred_test_base = lr.predict(X_test_base)\n",
    "\n",
    "print(f'Balanced Accuracy train: {balanced_accuracy_score(y_train, y_pred_train_base)}')\n",
    "print(f'Balanced Accuracy test: {balanced_accuracy_score(y_test, y_pred_test_base)}')"
   ]
  },
  {
   "cell_type": "code",
   "execution_count": null,
   "id": "560de1d6",
   "metadata": {},
   "outputs": [],
   "source": [
    "# We define the candidate models, we choose the model that best generalizes.\n",
    "clf1 = SVC(probability = True, class_weight = 'balanced', random_state = SEED)\n",
    "clf2 = RandomForestClassifier(class_weight = 'balanced', random_state = SEED, n_jobs = -1)\n",
    "clf3 = ExtraTreesClassifier(bootstrap = True, class_weight = 'balanced', n_jobs = -1, random_state = SEED)\n",
    "clf4 = XGBClassifier(random_state = SEED)\n",
    "clf5 = LGBMClassifier(class_weight = 'balanced', random_state = SEED, n_jobs = -1, verbose = -1)\n",
    "clf6 = CatBoostClassifier(auto_class_weights = 'Balanced',random_state = SEED, verbose = 0)\n",
    "\n",
    "MODELS = [clf1, clf2, clf3, clf4, clf5, clf6]"
   ]
  },
  {
   "cell_type": "code",
   "execution_count": null,
   "id": "f8598a6b",
   "metadata": {},
   "outputs": [],
   "source": [
    "# Training!!!\n",
    "accuracy_train = {}\n",
    "accuracy_test = {}\n",
    "\n",
    "for model in tqdm(MODELS):\n",
    "    name = type(model).__name__\n",
    "    model.fit(X_train_prep_models, y_train)\n",
    "    y_pred_train = model.predict(X_train_prep_models)\n",
    "    y_pred_test = model.predict(X_test_prep_models)\n",
    "    accuracy_train[name] = balanced_accuracy_score(y_train, y_pred_train)\n",
    "    accuracy_test[name] = balanced_accuracy_score(y_test, y_pred_test)\n",
    "    print(f'* {name} finished.')\n"
   ]
  },
  {
   "cell_type": "code",
   "execution_count": null,
   "id": "221b4ca5",
   "metadata": {},
   "outputs": [],
   "source": [
    "metric_train = pd.DataFrame.from_dict(accuracy_train, orient = 'index')\n",
    "metric_train = metric_train.rename(columns = {0:'Train'})\n",
    "\n",
    "metric_test = pd.DataFrame.from_dict(accuracy_test, orient = 'index')\n",
    "metric_test = metric_test.rename(columns = {0:'Test'})\n",
    "\n",
    "fig,ax = plt.subplots(figsize = (14,4.5))\n",
    "\n",
    "labels = metric_train.index.to_list()\n",
    "values_train = metric_train.iloc[:,0].to_list()\n",
    "values_test = metric_test.iloc[:,0].to_list()\n",
    "x = np.arange(len(labels))\n",
    "width = 0.35\n",
    "\n",
    "rects1 = ax.bar(x = x - width/2, height = values_train, width = width, label = 'Train')\n",
    "rects2 = ax.bar(x = x + width/2, height = values_test, width = width, label = 'Test')\n",
    "\n",
    "\n",
    "def autolabel(rects):\n",
    "    for rect in rects:\n",
    "        height = rect.get_height()\n",
    "        ax.annotate(text = f'{height:.4f}', \n",
    "                    xy = (rect.get_x() + rect.get_width()/2, height), \n",
    "                    xytext = (0,3), \n",
    "                    textcoords = \"offset points\", \n",
    "                    ha = \"center\", \n",
    "                    va = \"bottom\")\n",
    "        \n",
    "autolabel(rects1)\n",
    "autolabel(rects2)\n",
    "ax.legend()\n",
    "ax.set_title(\"Metric of Performance: Balanced Accuracy\", fontsize = 12, fontweight = \"bold\", color = \"black\")\n",
    "ax.set_ylabel(\"score\", fontsize = 12, fontweight = \"bold\", color = \"black\")\n",
    "ax.set_xlabel(\"Models\", fontsize = 12, fontweight = \"bold\", color = \"black\")\n",
    "ax.set_xticks(x)\n",
    "ax.set_xticklabels(labels)\n",
    "fig.show()\n"
   ]
  },
  {
   "cell_type": "markdown",
   "id": "1f9893b9",
   "metadata": {},
   "source": [
    "#### The best model with respect to the evaluation metric is CatBoostClassifier and it outperforms the base model, so we will calculate some additional metrics with this model."
   ]
  },
  {
   "cell_type": "markdown",
   "id": "8ba77d4a",
   "metadata": {},
   "source": [
    "# Metrics"
   ]
  },
  {
   "cell_type": "code",
   "execution_count": null,
   "id": "0252b3fb",
   "metadata": {},
   "outputs": [],
   "source": [
    "# Predictions!!!\n",
    "y_pred_train_final = clf6.predict(X_train_prep_models)\n",
    "y_pred_prob_train_final = clf6.predict_proba(X_train_prep_models)[:,1]\n",
    "y_pred_test_final = clf6.predict(X_test_prep_models)\n",
    "y_pred_prob_test_final = clf6.predict_proba(X_test_prep_models)[:,1]"
   ]
  },
  {
   "cell_type": "markdown",
   "id": "4bcf20ab",
   "metadata": {},
   "source": [
    "- Accuracy"
   ]
  },
  {
   "cell_type": "code",
   "execution_count": null,
   "id": "988960c0",
   "metadata": {},
   "outputs": [],
   "source": [
    "print(f'Accuracy train: {accuracy_score(y_train, y_pred_train_final):.4f}')\n",
    "print(f'Accuracy test: {accuracy_score(y_test, y_pred_test_final):.4f}')"
   ]
  },
  {
   "cell_type": "markdown",
   "id": "b47a0491",
   "metadata": {},
   "source": [
    "- Classification report"
   ]
  },
  {
   "cell_type": "code",
   "execution_count": null,
   "id": "b5e26ecd",
   "metadata": {},
   "outputs": [],
   "source": [
    "print(\"Classification Report Train\")\n",
    "print(classification_report(y_train, y_pred_train_final, target_names = ['No','Yes']))\n",
    "print(\" \")\n",
    "\n",
    "print(\"Classification Report Test\")\n",
    "print(classification_report(y_test, y_pred_test_final, target_names = ['No','Yes']))"
   ]
  },
  {
   "cell_type": "markdown",
   "id": "1d443ed9",
   "metadata": {},
   "source": [
    "- Confusion Metrix"
   ]
  },
  {
   "cell_type": "code",
   "execution_count": null,
   "id": "45b71775",
   "metadata": {},
   "outputs": [],
   "source": [
    "cf_mx_train = confusion_matrix(y_train, y_pred_train_final)\n",
    "cf_mx_test = confusion_matrix(y_test, y_pred_test_final)\n",
    "\n",
    "fig,axs = plt.subplots(nrows = 1, ncols = 2, figsize = (10,5))\n",
    "axs = axs.flat\n",
    "\n",
    "sns.heatmap(cf_mx_train, cmap = 'Reds', annot = True, annot_kws = {'fontsize':11, 'fontweight':'bold'}, fmt = '', xticklabels = ['No','Yes'], yticklabels = ['No','Yes'], cbar = False, square = True, ax = axs[0])\n",
    "sns.heatmap(cf_mx_test, cmap = 'Blues', annot = True, annot_kws = {'fontsize':11, 'fontweight':'bold'}, fmt = '', xticklabels = ['No','Yes'], yticklabels = ['No','Yes'], cbar = False, square = True, ax = axs[1])\n",
    "axs[0].set_xlabel('Predicted', fontsize = 12, fontweight = \"bold\", color = \"black\")\n",
    "axs[1].set_xlabel('Predicted', fontsize = 12, fontweight = \"bold\", color = \"black\")\n",
    "axs[0].set_ylabel('True', fontsize = 12, fontweight = \"bold\", color = \"black\")\n",
    "axs[1].set_ylabel('True', fontsize = 12, fontweight = \"bold\", color = \"black\")\n",
    "axs[0].set_title('Confusion Matrix Train', fontsize = 14, fontweight = \"bold\", color = \"black\")\n",
    "axs[1].set_title('Confusion Matrix Test', fontsize = 14, fontweight = \"bold\", color = \"black\")\n",
    "\n",
    "fig.tight_layout()\n",
    "fig.show()"
   ]
  },
  {
   "cell_type": "markdown",
   "id": "4d15f0ba",
   "metadata": {},
   "source": [
    "- ROC Curve"
   ]
  },
  {
   "cell_type": "code",
   "execution_count": null,
   "id": "861a51dc",
   "metadata": {},
   "outputs": [],
   "source": [
    "plt.style.use('ggplot')\n",
    "fpr_train, tpr_train, _ = roc_curve(y_train, y_pred_prob_train_final)\n",
    "fpr_test, tpr_test, _ = roc_curve(y_test, y_pred_prob_test_final)\n",
    "\n",
    "auc_train = roc_auc_score(y_train, y_pred_prob_train_final)\n",
    "auc_test = roc_auc_score(y_test, y_pred_prob_test_final)\n",
    "\n",
    "fig,ax = plt.subplots(figsize = (8,5.5))\n",
    "ax.plot(fpr_train, tpr_train, label = f'Train AUC = {auc_train:.4f}')\n",
    "ax.plot(fpr_test, tpr_test, label = f'Test AUC = {auc_test:.4f}')\n",
    "ax.plot([0,1], linestyle = '--', color = 'black')\n",
    "ax.set_xlabel(\"FPR\", fontsize = 10, fontweight = 'bold', color = 'black')\n",
    "ax.set_ylabel(\"TPR\", fontsize = 10, fontweight = 'bold', color = 'black')\n",
    "ax.legend()\n",
    "ax.set_title(\"ROC AUC\", fontsize = 12, fontweight = \"bold\", color = \"black\")\n",
    "fig.show()"
   ]
  },
  {
   "cell_type": "markdown",
   "id": "ef26f414",
   "metadata": {},
   "source": [
    "- Precision Recall Curve"
   ]
  },
  {
   "cell_type": "code",
   "execution_count": null,
   "id": "68d17d85",
   "metadata": {},
   "outputs": [],
   "source": [
    "precision_train, recall_train, _ = precision_recall_curve(y_train, y_pred_prob_train_final)\n",
    "precision_test, recall_test, _ = precision_recall_curve(y_test, y_pred_prob_test_final)\n",
    "\n",
    "fig, ax = plt.subplots(figsize=(8, 5.5))\n",
    "ax.plot(recall_train, precision_train, label='Train')\n",
    "ax.plot(recall_test, precision_test, label='Test')  # Changed to plot test precision-recall curve\n",
    "ax.set_xlabel(\"Recall\", fontsize=10, fontweight='bold', color='black')\n",
    "ax.set_ylabel(\"Precision\", fontsize=10, fontweight='bold', color='black')\n",
    "ax.legend()\n",
    "ax.set_title(\"Precision Recall Curve\", fontsize=12, fontweight=\"bold\", color=\"black\")\n",
    "fig.show()"
   ]
  },
  {
   "cell_type": "code",
   "execution_count": null,
   "id": "3e7568c2",
   "metadata": {},
   "outputs": [],
   "source": []
  }
 ],
 "metadata": {
  "kernelspec": {
   "display_name": "Python 3 (ipykernel)",
   "language": "python",
   "name": "python3"
  },
  "language_info": {
   "codemirror_mode": {
    "name": "ipython",
    "version": 3
   },
   "file_extension": ".py",
   "mimetype": "text/x-python",
   "name": "python",
   "nbconvert_exporter": "python",
   "pygments_lexer": "ipython3",
   "version": "3.9.7"
  }
 },
 "nbformat": 4,
 "nbformat_minor": 5
}
